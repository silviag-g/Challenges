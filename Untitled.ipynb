{
 "cells": [
  {
   "cell_type": "code",
   "execution_count": 2,
   "id": "027d9a88",
   "metadata": {},
   "outputs": [],
   "source": [
    "#ACQUISITION METHODS"
   ]
  },
  {
   "cell_type": "code",
   "execution_count": 3,
   "id": "a4acce44",
   "metadata": {},
   "outputs": [],
   "source": [
    "import pandas as pd"
   ]
  },
  {
   "cell_type": "code",
   "execution_count": 4,
   "id": "93e3fea2",
   "metadata": {},
   "outputs": [],
   "source": [
    "def acquisition(path_file):\n",
    "    dataframe = pd.read_csv(path_file)\n",
    "    return dataframe"
   ]
  },
  {
   "cell_type": "code",
   "execution_count": 6,
   "id": "5f3fab37",
   "metadata": {},
   "outputs": [],
   "source": [
    "#acquisition('../../datasets/vehicles.csv') #Los dos puntos es para salirte de las carpetas dos veces y luego los otros dos puntos siguientes es para salir y entrar en la siguiente carpeta."
   ]
  },
  {
   "cell_type": "code",
   "execution_count": null,
   "id": "f4b8a1e4",
   "metadata": {},
   "outputs": [],
   "source": []
  },
  {
   "cell_type": "code",
   "execution_count": 7,
   "id": "87b89aad",
   "metadata": {},
   "outputs": [],
   "source": [
    "#WRANGLING METHODS \n"
   ]
  },
  {
   "cell_type": "code",
   "execution_count": 8,
   "id": "a77ca229",
   "metadata": {},
   "outputs": [],
   "source": [
    "import pandas as pd"
   ]
  },
  {
   "cell_type": "code",
   "execution_count": 9,
   "id": "f8487c38",
   "metadata": {},
   "outputs": [],
   "source": [
    "def wrangling(df,year,col):\n",
    "    df = df[df[col].isin([year])]\n",
    "    df = df[['year','month']]\n",
    "    return df"
   ]
  },
  {
   "cell_type": "code",
   "execution_count": null,
   "id": "e7fdff47",
   "metadata": {},
   "outputs": [],
   "source": []
  },
  {
   "cell_type": "code",
   "execution_count": null,
   "id": "b8a2150f",
   "metadata": {},
   "outputs": [],
   "source": [
    "dataframe_pruebas = pd.read_csv('../../datasets/vehicles.csv, low_memory=false')"
   ]
  },
  {
   "cell_type": "code",
   "execution_count": 10,
   "id": "8cbfb887",
   "metadata": {},
   "outputs": [
    {
     "ename": "NameError",
     "evalue": "name 'dataframe_puebas' is not defined",
     "output_type": "error",
     "traceback": [
      "\u001b[1;31m---------------------------------------------------------------------------\u001b[0m",
      "\u001b[1;31mNameError\u001b[0m                                 Traceback (most recent call last)",
      "\u001b[1;32m~\\AppData\\Local\\Temp/ipykernel_7132/1086337189.py\u001b[0m in \u001b[0;36m<module>\u001b[1;34m\u001b[0m\n\u001b[1;32m----> 1\u001b[1;33m \u001b[0mwrangling\u001b[0m\u001b[1;33m(\u001b[0m\u001b[0mdataframe_puebas\u001b[0m\u001b[1;33m,\u001b[0m \u001b[1;34m'1999'\u001b[0m\u001b[1;33m,\u001b[0m \u001b[1;34m'year'\u001b[0m\u001b[1;33m)\u001b[0m\u001b[1;33m\u001b[0m\u001b[1;33m\u001b[0m\u001b[0m\n\u001b[0m",
      "\u001b[1;31mNameError\u001b[0m: name 'dataframe_puebas' is not defined"
     ]
    }
   ],
   "source": [
    "wrangling(dataframe_puebas, '1999', 'year')"
   ]
  },
  {
   "cell_type": "code",
   "execution_count": null,
   "id": "77c2d882",
   "metadata": {},
   "outputs": [],
   "source": []
  },
  {
   "cell_type": "code",
   "execution_count": 11,
   "id": "f35fd709",
   "metadata": {},
   "outputs": [],
   "source": [
    "#ANALYSIS METHOD"
   ]
  },
  {
   "cell_type": "code",
   "execution_count": 14,
   "id": "59a74fe0",
   "metadata": {},
   "outputs": [],
   "source": [
    "import pandas as pd\n",
    "import numpy as np"
   ]
  },
  {
   "cell_type": "code",
   "execution_count": 13,
   "id": "09255431",
   "metadata": {},
   "outputs": [
    {
     "ename": "SyntaxError",
     "evalue": "unexpected EOF while parsing (Temp/ipykernel_7132/3530703219.py, line 1)",
     "output_type": "error",
     "traceback": [
      "\u001b[1;36m  File \u001b[1;32m\"C:\\Users\\silvi\\AppData\\Local\\Temp/ipykernel_7132/3530703219.py\"\u001b[1;36m, line \u001b[1;32m1\u001b[0m\n\u001b[1;33m    def analysis(df, groupby_col, agg_col):\u001b[0m\n\u001b[1;37m                                           ^\u001b[0m\n\u001b[1;31mSyntaxError\u001b[0m\u001b[1;31m:\u001b[0m unexpected EOF while parsing\n"
     ]
    }
   ],
   "source": [
    "def analysis(df, groupby_col, agg_col):\n",
    "    df = df.gropuby([groupby_col])[agg_col].agg(np.sum())\n",
    "    return df "
   ]
  },
  {
   "cell_type": "code",
   "execution_count": 16,
   "id": "3d72f204",
   "metadata": {},
   "outputs": [],
   "source": [
    "#dataframe_pruebas = wrangling(dataframe_pruebas, 1985, 'year')"
   ]
  },
  {
   "cell_type": "code",
   "execution_count": null,
   "id": "661d1105",
   "metadata": {},
   "outputs": [],
   "source": [
    "analysis(dataframe_pruebas, )"
   ]
  },
  {
   "cell_type": "code",
   "execution_count": null,
   "id": "731f7549",
   "metadata": {},
   "outputs": [],
   "source": []
  }
 ],
 "metadata": {
  "kernelspec": {
   "display_name": "Python [conda env:ironhack]",
   "language": "python",
   "name": "conda-env-ironhack-py"
  },
  "language_info": {
   "codemirror_mode": {
    "name": "ipython",
    "version": 3
   },
   "file_extension": ".py",
   "mimetype": "text/x-python",
   "name": "python",
   "nbconvert_exporter": "python",
   "pygments_lexer": "ipython3",
   "version": "3.7.11"
  }
 },
 "nbformat": 4,
 "nbformat_minor": 5
}
