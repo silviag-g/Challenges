{
 "cells": [
  {
   "cell_type": "code",
   "execution_count": 1,
   "id": "58076787",
   "metadata": {},
   "outputs": [],
   "source": [
    "#BALANCED NUMBERS\n",
    "\n",
    "#Given a number, Find if it is Balanced or not.\n",
    "#Balanced number is the number that The sum of all digits to the left of the middle digit(s) and the sum of all digits to the right of the middle digit(s) are equal."
   ]
  },
  {
   "cell_type": "code",
   "execution_count": null,
   "id": "9cbdeb30",
   "metadata": {},
   "outputs": [],
   "source": [
    "def balanced_num(number):"
   ]
  },
  {
   "cell_type": "code",
   "execution_count": null,
   "id": "6a988c75",
   "metadata": {},
   "outputs": [],
   "source": [
    "#PRIMER PASO SABER SI NUMERO ES PAR O IMPAR\n",
    "#Convertimos el interger a una string para poder obtener su lenght.Para ello definimos el número y buscamos su longitud.\n",
    "    string_number = str(number)\n",
    "    longitud_numero = len(string_number)\n",
    "#Para saber si el numero es par o impar, lo que hacemos es partir la longuitud del numero en dos partes.\n",
    "    if longitud_numero%2==0:\n",
    "        indice_mitad_superior = longitud_numero//2 #lo dividimos con dos barras para que nos salga un int en vez de un float.\n",
    "        indice_mitad_inferior = indice_mitad_superior -1 #le restamos -1 (eliminado el digito del medio) para que el numero se convierta en par y poder contar de forma equitativa los extremos\n",
    "        lado_izqd = string_number[0:indice_mitad_inferior] #para sacar los numeros de la izq\n",
    "        lado_drch = string_number[indice_mitad_superior+1:] #para sacar los numeros de la drcha\n",
    "    else:\n",
    "        mitad = longitud_numero//2\n",
    "        lado_izqd = string_number[0:mitad]\n",
    "        lado_drch = string_number[mitad+1:]\n",
    "    suma_drch = 0\n",
    "    for cifra in lado_drch:\n",
    "        int_cifra = int(cifra)\n",
    "        suma_drch = suma_drch + int_cifra\n",
    "    suma_izqd = 0\n",
    "    for cifra in lado_izqd:\n",
    "        int_cifra = int(cifra)\n",
    "        suma_izqd = suma_izqd + int_cifra\n",
    "    if suma_drch == suma_izqd:\n",
    "        return \"Balanced\"\n",
    "    else:\n",
    "        return \"Not Balanced\""
   ]
  },
  {
   "cell_type": "code",
   "execution_count": null,
   "id": "7c314e24",
   "metadata": {},
   "outputs": [],
   "source": [
    "def balanced_num(number):\n",
    "    string_number = str(number)\n",
    "    longitud_numero = len(string_number)\n",
    "    if longitud_numero%2==0:\n",
    "        indice_mitad_superior = longitud_numero//2\n",
    "        indice_mitad_inferior = indice_mitad_superior-1\n",
    "        lado_izqd = string_number[0:indice_mitad_inferior]\n",
    "        lado_drch = string_number[indice_mitad_superior+1:]\n",
    "    else:\n",
    "        mitad = longitud_numero//2\n",
    "        lado_izqd = string_number[0:mitad]\n",
    "        lado_drch = string_number[mitad+1:]\n",
    "    suma_drch = 0\n",
    "    for cifra in lado_drch:\n",
    "        int_cifra = int(cifra)\n",
    "        suma_drch = suma_drch + int_cifra\n",
    "    suma_izqd = 0\n",
    "    for cifra in lado_izqd:\n",
    "        int_cifra = int(cifra)\n",
    "        suma_izqd = suma_izqd + int_cifra\n",
    "    if suma_drch == suma_izqd:\n",
    "        return \"Balanced\"\n",
    "    else:\n",
    "        return \"Not Balanced\""
   ]
  }
 ],
 "metadata": {
  "kernelspec": {
   "display_name": "Python [conda env:ironhack]",
   "language": "python",
   "name": "conda-env-ironhack-py"
  },
  "language_info": {
   "codemirror_mode": {
    "name": "ipython",
    "version": 3
   },
   "file_extension": ".py",
   "mimetype": "text/x-python",
   "name": "python",
   "nbconvert_exporter": "python",
   "pygments_lexer": "ipython3",
   "version": "3.7.11"
  }
 },
 "nbformat": 4,
 "nbformat_minor": 5
}
